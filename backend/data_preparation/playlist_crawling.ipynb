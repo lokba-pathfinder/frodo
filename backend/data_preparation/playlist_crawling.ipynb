{
 "cells": [
  {
   "cell_type": "code",
   "execution_count": 1,
   "metadata": {},
   "outputs": [
    {
     "name": "stderr",
     "output_type": "stream",
     "text": [
      "The chromedriver version (115.0.5790.102) detected in PATH at /opt/homebrew/bin/chromedriver might not be compatible with the detected chrome version (116.0.5845.96); currently, chromedriver 116.0.5845.96 is recommended for chrome 116.*, so it is advised to delete the driver in PATH and retry\n"
     ]
    },
    {
     "name": "stdout",
     "output_type": "stream",
     "text": [
      "Ceyrx962v3g\n",
      "ojzem0OfRks\n",
      "QD567d4XozY\n",
      "itWBd7jenu4\n",
      "Qaoqqc6ijX8\n",
      "xJg53tWy8ag\n",
      "kvH3RElJIFw\n",
      "k0JvZpQkgWg\n",
      "MiKzCB1mDqk\n",
      "xRvE82tBQOo\n",
      "g8MJDRovq4g\n",
      "edzp1gEGkPA\n",
      "yP7YM3qlUVU\n",
      "MsGBOss88iw\n",
      "qNRzHXQkagc\n",
      "pn7FRjxVOLM\n",
      "0QIV4vBQK9A\n",
      "yRQUGatTTvU\n",
      "SWzyztkoagc\n",
      "aeOMKD9t9H0\n",
      "RKc2DpoSGqk\n",
      "yKv7ZncVi8A\n",
      "cfD_6aw9w_A\n",
      "EqdoXgnwjCc\n",
      "LNko2NMs1tM\n",
      "XKKX4ujWH2w\n",
      "R_aM2U5YQAs\n",
      "s8iii0h5xoc\n",
      "_tyVQ5BGhoE\n",
      "osiaXd21O6U\n"
     ]
    }
   ],
   "source": [
    "from selenium import webdriver\n",
    "from selenium.webdriver.chrome.options import Options\n",
    "from selenium.webdriver.common.by import By\n",
    "from selenium.webdriver.support.ui import WebDriverWait\n",
    "from selenium.webdriver.support import expected_conditions as EC\n",
    "import time\n",
    "\n",
    "# url 설정 - crawling 하기 원하는, playlist가 나와있는 youtube 화면의 url을 입력해주세요. 아래는 issue#311의 예시입니다.\n",
    "urls = [\"https://www.youtube.com/watch?v=Ceyrx962v3g&list=PLJPjg3It2DXQ2lPgdpD7bcKo-baK4lUpW\"]\n",
    "\n",
    "wc_endpoint_hrefs = []\n",
    "# 웹페이지로 이동\n",
    "for url in urls:\n",
    "    time.sleep(1)\n",
    "    # 웹 드라이버 옵션 설정\n",
    "    options = Options()\n",
    "    options.add_argument(\"headless\")\n",
    "    options.add_argument(\"window-size=1920x1080\")\n",
    "\n",
    "    # 웹 드라이버 설정\n",
    "    driver = webdriver.Chrome(options=options)\n",
    "\n",
    "    driver.get(url)\n",
    "\n",
    "    # 최대 10초 동안 특정 요소가 나타날 때까지 대기\n",
    "    wait = WebDriverWait(driver, 10)\n",
    "\n",
    "    try:\n",
    "        # 'id=\"wc-endpoint\"'를 가진 <a> 태그가 나타날 때까지 대기\n",
    "        wait.until(EC.presence_of_all_elements_located((By.CSS_SELECTOR, 'a[id=\"wc-endpoint\"]')))\n",
    "        \n",
    "        # 'id=\"wc-endpoint\"'를 가진 모든 <a> 태그의 'href' 속성 값을 추출\n",
    "        wc_endpoint_elements = driver.find_elements(By.CSS_SELECTOR, 'a[id=\"wc-endpoint\"]')\n",
    "        for element in wc_endpoint_elements:\n",
    "            href = element.get_attribute('href')\n",
    "            if href:  # href 값이 있는 경우만 추가\n",
    "                wc_endpoint_hrefs.append(href)\n",
    "\n",
    "    except:\n",
    "        print(\"Element not found!\")\n",
    "    finally:\n",
    "        driver.quit()\n",
    "\n",
    "if wc_endpoint_hrefs:\n",
    "    for href in wc_endpoint_hrefs:\n",
    "        print(href.split(\"?\")[1][2:13])"
   ]
  },
  {
   "cell_type": "code",
   "execution_count": null,
   "metadata": {},
   "outputs": [],
   "source": []
  }
 ],
 "metadata": {
  "kernelspec": {
   "display_name": "backend-yxcN_Kyt",
   "language": "python",
   "name": "python3"
  },
  "language_info": {
   "codemirror_mode": {
    "name": "ipython",
    "version": 3
   },
   "file_extension": ".py",
   "mimetype": "text/x-python",
   "name": "python",
   "nbconvert_exporter": "python",
   "pygments_lexer": "ipython3",
   "version": "3.11.4"
  },
  "orig_nbformat": 4
 },
 "nbformat": 4,
 "nbformat_minor": 2
}
